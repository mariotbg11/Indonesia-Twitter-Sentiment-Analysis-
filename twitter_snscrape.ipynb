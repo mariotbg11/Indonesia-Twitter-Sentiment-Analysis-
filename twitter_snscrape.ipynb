{
 "cells": [
  {
   "cell_type": "code",
   "execution_count": 6,
   "id": "6da53049-7f65-40e5-8971-4b5e0ccba924",
   "metadata": {},
   "outputs": [],
   "source": [
    "import snscrape.modules.twitter as sntwitter\n",
    "import pandas as pd"
   ]
  },
  {
   "cell_type": "code",
   "execution_count": 8,
   "id": "114189ee-0337-441a-be14-18c917be0648",
   "metadata": {},
   "outputs": [],
   "source": [
    "# Membuat List data tweet\n",
    "tweets = []\n",
    "\n",
    "# Menggunakan TwitterSearchScraper untuk scraping data tweets\n",
    "for i,tweet in enumerate(sntwitter.TwitterSearchScraper('Tunda Pemilu since:2022-05-01 until:2022-05-31').get_items()):\n",
    "    if i>1000:\n",
    "        break\n",
    "    tweets.append([tweet.date, tweet.user.username, tweet.content])\n",
    "    \n",
    "# Membuat DataFrame dari tweets\n",
    "df = pd.DataFrame(tweets, columns=['Date', 'Username', 'Tweet'])"
   ]
  }
 ],
 "metadata": {
  "kernelspec": {
   "display_name": "Python 3",
   "language": "python",
   "name": "python3"
  },
  "language_info": {
   "codemirror_mode": {
    "name": "ipython",
    "version": 3
   },
   "file_extension": ".py",
   "mimetype": "text/x-python",
   "name": "python",
   "nbconvert_exporter": "python",
   "pygments_lexer": "ipython3",
   "version": "3.8.8"
  }
 },
 "nbformat": 4,
 "nbformat_minor": 5
}
